{
 "cells": [
  {
   "cell_type": "code",
   "execution_count": 1,
   "id": "c85eaa62",
   "metadata": {},
   "outputs": [
    {
     "data": {
      "text/html": [
       "<script>\n",
       "code_show=true; \n",
       "function code_toggle() {\n",
       " if (code_show){\n",
       " $('div.input').hide();\n",
       " } else {\n",
       " $('div.input').show();\n",
       " }\n",
       " code_show = !code_show\n",
       "} \n",
       "$( document ).ready(code_toggle);\n",
       "</script>\n",
       "The raw code is hidden for easier reading. To toggle on/off the raw code, click <a href=\"javascript:code_toggle()\">here</a>."
      ],
      "text/plain": [
       "<IPython.core.display.HTML object>"
      ]
     },
     "execution_count": 1,
     "metadata": {},
     "output_type": "execute_result"
    }
   ],
   "source": [
    "import pandas as pd\n",
    "import numpy as np\n",
    "%matplotlib inline\n",
    "from IPython.display import HTML\n",
    "\n",
    "import dash\n",
    "from dash import dcc\n",
    "from dash import html\n",
    "from dash.dependencies import Input, Output\n",
    "from jupyter_dash import JupyterDash\n",
    "\n",
    "import plotly\n",
    "import plotly.graph_objs as go\n",
    "import plotly.express as px\n",
    "\n",
    "plotly.io.renderers.default = 'notebook'\n",
    "\n",
    "HTML('''<script>\n",
    "code_show=true; \n",
    "function code_toggle() {\n",
    " if (code_show){\n",
    " $('div.input').hide();\n",
    " } else {\n",
    " $('div.input').show();\n",
    " }\n",
    " code_show = !code_show\n",
    "} \n",
    "$( document ).ready(code_toggle);\n",
    "</script>\n",
    "The raw code is hidden for easier reading. To toggle on/off the raw code, click <a href=\"javascript:code_toggle()\">here</a>.''')"
   ]
  },
  {
   "cell_type": "code",
   "execution_count": 2,
   "id": "cd810de9",
   "metadata": {},
   "outputs": [
    {
     "name": "stdout",
     "output_type": "stream",
     "text": [
      "Reading data ...\n"
     ]
    }
   ],
   "source": [
    "#reading data\n",
    "print('Reading data ...')\n",
    "\n",
    "data_dir = '/home/andry/projects/dataKind/DC-DHS-Public/data/'\n",
    "data0 = pd.read_csv(data_dir+\"InShelterPerDay_Shelter_10-06-2021.csv\")\n",
    "data = pd.read_csv(data_dir+\"InShelterPerDay_Gender_Shelter_10-06-2021.csv\")\n",
    "\n",
    "data0['date'] = pd.to_datetime(data0['date'])\n",
    "data['date'] = pd.to_datetime(data['date'])\n",
    "data['total'] = data[['Male', 'Female', 'NA', 'Transgender']].sum(axis=1)\n",
    "# data = data[data['Total']!=0]"
   ]
  },
  {
   "cell_type": "code",
   "execution_count": 3,
   "id": "02cc5de6",
   "metadata": {},
   "outputs": [],
   "source": [
    "# %%javascript\n",
    "# IPython.OutputArea.prototype._should_scroll = function(lines) {\n",
    "#    return false;\n",
    "# }\n",
    "\n",
    "unique_name = data['name'].unique()\n",
    "unique_name.sort()\n",
    "name_dict = {}\n",
    "for i,name in enumerate(unique_name):\n",
    "    name_dict[name] = i \n",
    "\n",
    "data['name_id'] = data['name'].map(name_dict)\n",
    "data0['name_id'] = data0['name'].map(name_dict)"
   ]
  },
  {
   "cell_type": "code",
   "execution_count": 4,
   "id": "ad9eebb8",
   "metadata": {
    "scrolled": true
   },
   "outputs": [
    {
     "data": {
      "text/html": [
       "\n",
       "        <iframe\n",
       "            width=\"100%\"\n",
       "            height=\"650\"\n",
       "            src=\"http://127.0.0.1:8050/\"\n",
       "            frameborder=\"0\"\n",
       "            allowfullscreen\n",
       "            \n",
       "        ></iframe>\n",
       "        "
      ],
      "text/plain": [
       "<IPython.lib.display.IFrame at 0x7fdd013be430>"
      ]
     },
     "metadata": {},
     "output_type": "display_data"
    }
   ],
   "source": [
    "\n",
    "app = JupyterDash(__name__)\n",
    "\n",
    "min_date = data['date'].dt.year.min()\n",
    "max_date = data['date'].dt.year.max()\n",
    "\n",
    "\n",
    "graph_style = {'display': 'inline-block', 'width': '80%','text-align': 'center', 'vertical-align': 'middle'}\n",
    "menu_style = {'display': 'inline-block', 'width': '100%','text-align': 'left', 'vertical-align': 'left'} \n",
    "div0_style = {'display': 'inline-block', 'width': '80%','text-align': 'center', 'vertical-align': 'middle'}\n",
    "\n",
    "\n",
    "\n",
    "app.layout = html.Div([\n",
    "        # menu: selection \n",
    "        html.Div([\n",
    "            html.H1(\"Beds Used by Shelter and Gender\"),\n",
    "            dcc.Dropdown(\n",
    "                id='colorscale-dropdown', clearable=False,\n",
    "                value=['All_Shelter'], options=[{'label': 'All Shelter', 'value': 'All_Shelter'}] + [\n",
    "                    {'label': c, 'value': c}\n",
    "                    for c in np.sort(unique_name)],\n",
    "                # placeholder=['All_Shelter'],\n",
    "                multi=True,\n",
    "                style={'width': '80%','color': '#212121',}\n",
    "                ),\n",
    "            dcc.Checklist(\n",
    "                id=\"gender\",\n",
    "                options=[{'label': c, 'value': c} for c in ['All Gender', 'Male', 'Female']],\n",
    "                value=['All Gender', 'Male', 'Female'],\n",
    "                labelStyle={\"display\": \"inline-block\", 'marginTop': '15px', 'marginRight': '15px'},\n",
    "                style={'width': '60%','color': '#212121',}\n",
    "                )\n",
    "            ], style=menu_style),\n",
    "\n",
    "        # graph and slider\n",
    "        html.Div([\n",
    "            dcc.Graph(id='graph'),\n",
    "            dcc.RangeSlider(\n",
    "                id='date-range-slider',\n",
    "                min=min_date, max=max_date,\n",
    "                step=None,\n",
    "                value=[min_date, max_date],\n",
    "                marks={str(year): str(year) for year in range(min_date, max_date+1)},\n",
    "                ),\n",
    "            ],\n",
    "            style=graph_style),\n",
    "        ],\n",
    "        style=div0_style)\n",
    "    \n",
    "\n",
    "\n",
    "# Define callback to update graph\n",
    "@app.callback(\n",
    "    Output('graph', 'figure'),\n",
    "    [Input(\"colorscale-dropdown\", \"value\"),\n",
    "    Input('gender', 'value'),\n",
    "    Input('date-range-slider', 'value')]\n",
    ")\n",
    "def update_figure(shelter, genders, date_range):\n",
    "    df = data[(data['date'] >= str(date_range[0])) & (data['date']<= str(date_range[1]+1))]\n",
    "    if len(shelter) == 0:\n",
    "        df = df.groupby('date').sum().reset_index()\n",
    "    elif (shelter[0] == 'All_Shelter') and len(shelter) == 1:\n",
    "        df = df.groupby('date').sum().reset_index()\n",
    "    else:\n",
    "        df = df[df['name'].isin(shelter)].groupby('date').sum().reset_index()\n",
    "    fig = go.Figure()\n",
    "    for gender in genders:\n",
    "        if gender == 'All Gender': \n",
    "            fig.add_scatter(x=df['date'], y = df[['Male', 'Female', 'NA', 'Transgender']].sum(axis=1), mode = 'lines', name=gender)\n",
    "        else:\n",
    "            fig.add_scatter(x=df['date'], y = df[gender], mode = 'lines', name=gender)\n",
    "    fig.update_layout(xaxis_title='Date', margin={'l': 100, 'b': 40, 't': 20, 'r': 20}, \n",
    "                      yaxis_title='Shelter beds used', hovermode=\"x unified\")\n",
    "    return fig\n",
    "\n",
    "\n",
    "\n",
    "app.run_server(mode='inline')"
   ]
  },
  {
   "cell_type": "code",
   "execution_count": 5,
   "id": "a113782f",
   "metadata": {},
   "outputs": [
    {
     "data": {
      "text/html": [
       "\n",
       "        <iframe\n",
       "            width=\"100%\"\n",
       "            height=\"650\"\n",
       "            src=\"http://127.0.0.1:8060/\"\n",
       "            frameborder=\"0\"\n",
       "            allowfullscreen\n",
       "            \n",
       "        ></iframe>\n",
       "        "
      ],
      "text/plain": [
       "<IPython.lib.display.IFrame at 0x7fdd002fa820>"
      ]
     },
     "metadata": {},
     "output_type": "display_data"
    }
   ],
   "source": [
    "\n",
    "app1 = JupyterDash(__name__)\n",
    "\n",
    "min_date = data['date'].dt.year.min()\n",
    "max_date = data['date'].dt.year.max()\n",
    "\n",
    "\n",
    "graph_style = {'display': 'inline-block', 'width': '80%','text-align': 'center', 'vertical-align': 'middle'}\n",
    "menu_style = {'display': 'inline-block', 'width': '100%','text-align': 'left', 'vertical-align': 'left'} \n",
    "div0_style = {'display': 'inline-block', 'width': '80%','text-align': 'center', 'vertical-align': 'middle'}\n",
    "\n",
    "\n",
    "app1.layout = html.Div([\n",
    "        html.Div([\n",
    "            html.H1(\"Individual Shelter: Beds used\"),\n",
    "            html.P(id='hover-data')],\n",
    "            style=menu_style),\n",
    "        html.Div([\n",
    "            html.Div([dcc.Graph(id='graph_shelter')],\n",
    "                    style={'width': '90%'}),\n",
    "            \n",
    "            dcc.RangeSlider(\n",
    "                id='date-range-slider_shelter',\n",
    "                min=min_date, max=max_date,\n",
    "                step=None,\n",
    "                value=[min_date, max_date],\n",
    "                marks={str(year): str(year) for year in range(min_date, max_date+1)},\n",
    "                ),\n",
    "            ],\n",
    "            style=graph_style),\n",
    "        ],\n",
    "        style=div0_style)\n",
    "\n",
    "\n",
    "# Define callback to update graph\n",
    "@app1.callback(\n",
    "    Output('graph_shelter', 'figure'),\n",
    "    [Input('date-range-slider_shelter', 'value')]\n",
    ")\n",
    "def update_figure_shelter(date_range):\n",
    "    # data1 = data.groupby(['name_id','date']).sum().reset_index(level='date')\n",
    "    df0 = data[(data['date'] >= str(date_range[0])) & (data['date']<= str(date_range[1]+1))]\n",
    "    fig = go.Figure(layout=dict(hovermode= \"closest\", showlegend=False, margin={'l': 100, 'b': 40, 't': 20, 'r': 20}, \n",
    "                      xaxis_title='Date', yaxis_title='Shelter beds used'))\n",
    "\n",
    "    df = df0.copy() \n",
    "    for c in df.groupby(['name_id'])['total'].mean().sort_values(ascending=False)[:10].index:\n",
    "        df2 = df0[df0.name_id == c]\n",
    "        fig.add_scattergl(x=df2['date'], y = df2['total'], mode = 'lines', name=None, customdata=[c] * len(df2))\n",
    "    \n",
    "    return fig\n",
    "\n",
    "\n",
    "@app1.callback(\n",
    "    Output('hover-data', 'children'),\n",
    "    Input('graph_shelter', 'hoverData'))\n",
    "def display_hover_data(hoverData):\n",
    "    if hoverData is None:\n",
    "        return 'Hovered: None'\n",
    "    return 'Hovered: '+unique_name[hoverData['points'][0]['customdata']]\n",
    "\n",
    "\n",
    "app1.run_server(mode='inline', port=8060)"
   ]
  },
  {
   "cell_type": "code",
   "execution_count": null,
   "id": "4e47fd45",
   "metadata": {},
   "outputs": [],
   "source": []
  }
 ],
 "metadata": {
  "kernelspec": {
   "display_name": "greykite_env",
   "language": "python",
   "name": "greykite_env"
  },
  "language_info": {
   "codemirror_mode": {
    "name": "ipython",
    "version": 3
   },
   "file_extension": ".py",
   "mimetype": "text/x-python",
   "name": "python",
   "nbconvert_exporter": "python",
   "pygments_lexer": "ipython3",
   "version": "3.8.10"
  }
 },
 "nbformat": 4,
 "nbformat_minor": 5
}
